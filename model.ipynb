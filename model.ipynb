{
 "cells": [
  {
   "cell_type": "code",
   "execution_count": 1,
   "id": "48df11b2",
   "metadata": {},
   "outputs": [],
   "source": [
    "import numpy as np\n",
    "import pandas as pd\n",
    "#from flask import Flask, render_template, request\n",
    "# libraries for making count matrix and similarity matrix\n",
    "from sklearn.feature_extraction.text import CountVectorizer\n",
    "from sklearn.metrics.pairwise import cosine_similarity\n",
    "from IPython.display import HTML \n",
    "\n"
   ]
  },
  {
   "cell_type": "code",
   "execution_count": 2,
   "id": "a1f7ac5f",
   "metadata": {},
   "outputs": [],
   "source": [
    "def create_sim():\n",
    "    data = pd.read_csv(\"C:/Users/acer/Desktop/Web-Scrapping-on-Naukri-main/naukriscrapdata.csv\")\n",
    "    # creating a count matrix\n",
    "    cv = CountVectorizer()\n",
    "    count_matrix = cv.fit_transform(data['roles'])\n",
    "    # creating a similarity score matrix\n",
    "    sim = cosine_similarity(count_matrix)\n",
    "    return data,sim\n",
    "\n",
    "\n"
   ]
  },
  {
   "cell_type": "code",
   "execution_count": 3,
   "id": "ecb1ac07",
   "metadata": {},
   "outputs": [],
   "source": [
    "def rcmd(m):\n",
    "    #m = m.lower()\n",
    "    # check if data and sim are already assigned\n",
    "    try:\n",
    "        data.head()\n",
    "        sim.shape\n",
    "    except:\n",
    "        data, sim = create_sim()\n",
    "    # check if the role is in our database or not\n",
    "    if m not in data['roles'].unique():\n",
    "        return('This job_roles is not in our database.\\nPlease check if you spelled it correct.')\n",
    "    else:\n",
    "        # getting the index of the role in the dataframe\n",
    "        i = data.loc[data['roles']==m].index[0]\n",
    "\n",
    "        # fetching the row containing similarity scores of the movie\n",
    "        # from similarity matrix and enumerate it\n",
    "        lst = list(enumerate(sim[i]))\n",
    "\n",
    "        # sorting this list in decreasing order based on the similarity score\n",
    "        lst = sorted(lst, key = lambda x:x[1] ,reverse=True)\n",
    "\n",
    "        # taking top 1- role scores\n",
    "        # not taking the first index since it is the same role\n",
    "        lst = lst[1:11]\n",
    "\n",
    "        # making an empty list that will containg all 10 role recommendations\n",
    "        l = []\n",
    "        L=[]\n",
    "        for i in range(len(lst)):\n",
    "            a = lst[i][0]\n",
    "            l.append(data['skills'][a])\n",
    "            L.append(data['roles'][a])\n",
    "            jobs={'Roles':L,'TEXT':l}\n",
    "            recommendation = pd.DataFrame(jobs)\n",
    "            result = recommendation.to_html()\n",
    "            \n",
    "            \n",
    "            html = recommendation.to_html()\n",
    "            #write html to file \n",
    "            text_file = open(\"index.html\", \"w\") \n",
    "            text_file.write(html) \n",
    "            text_file.close() \n",
    "            table=HTML(recommendation.to_html(classes='table table-striped'))\n",
    "  \n",
    "\n",
    "        return table\n"
   ]
  },
  {
   "cell_type": "code",
   "execution_count": 4,
   "id": "1e664e74",
   "metadata": {},
   "outputs": [
    {
     "name": "stdout",
     "output_type": "stream",
     "text": [
      "0       Data Scientist / Data Analyst -Business Analyst\n",
      "1                                 Senior Data Scientist\n",
      "2                                 Senior Data Scientist\n",
      "3                                 Senior Data Scientist\n",
      "4                           Sr. Data Scientist - AutoML\n",
      "                             ...                       \n",
      "1076                                     Data-Scientist\n",
      "1077                                     Data Scientist\n",
      "1078                                     Data Scientist\n",
      "1079                                     Data Scientist\n",
      "1080                                    Data Scientists\n",
      "Name: roles, Length: 1081, dtype: object\n"
     ]
    }
   ],
   "source": [
    "data, sim = create_sim()\n",
    "print(data['roles'])\n"
   ]
  },
  {
   "cell_type": "code",
   "execution_count": null,
   "id": "c9e5380e",
   "metadata": {},
   "outputs": [],
   "source": []
  }
 ],
 "metadata": {
  "kernelspec": {
   "display_name": "Python 3",
   "language": "python",
   "name": "python3"
  },
  "language_info": {
   "codemirror_mode": {
    "name": "ipython",
    "version": 3
   },
   "file_extension": ".py",
   "mimetype": "text/x-python",
   "name": "python",
   "nbconvert_exporter": "python",
   "pygments_lexer": "ipython3",
   "version": "3.9.4"
  }
 },
 "nbformat": 4,
 "nbformat_minor": 5
}
