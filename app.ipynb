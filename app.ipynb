{
 "cells": [
  {
   "cell_type": "code",
   "execution_count": 1,
   "id": "755fc09d",
   "metadata": {},
   "outputs": [],
   "source": [
    "import pandas as pd\n",
    "import numpy as np\n",
    "import pandas as pd\n",
    "from flask import Flask, render_template, request\n",
    "# libraries for making count matrix and similarity matrix\n",
    "from sklearn.feature_extraction.text import CountVectorizer\n",
    "from sklearn.metrics.pairwise import cosine_similarity"
   ]
  },
  {
   "cell_type": "code",
   "execution_count": 2,
   "id": "aaa11222",
   "metadata": {},
   "outputs": [],
   "source": [
    "def create_sim():\n",
    "    data = pd.read_csv('C:/Users/acer/Desktop/Web-Scrapping-on-Naukri-main/naukriscrapdata.csv')\n",
    "    # creating a count matrix\n",
    "    cv = CountVectorizer()\n",
    "    count_matrix = cv.fit_transform(data['roles'])\n",
    "    # creating a similarity score matrix\n",
    "    sim = cosine_similarity(count_matrix)\n",
    "    return data,sim\n"
   ]
  },
  {
   "cell_type": "code",
   "execution_count": 3,
   "id": "b43390a5",
   "metadata": {},
   "outputs": [],
   "source": [
    "def rcmd(m):\n",
    "    #m = m.lower()\n",
    "    # check if data and sim are already assigned\n",
    "    try:\n",
    "        data.head()\n",
    "        sim.shape\n",
    "    except:\n",
    "        data, sim = create_sim()\n",
    "    # check if the movie is in our database or not\n",
    "    if m not in data['roles'].unique():\n",
    "        return('This job_roles is not in our database.\\nPlease check if you spelled it correct.')\n",
    "    else:\n",
    "        # getting the index of the movie in the dataframe\n",
    "        i = data.loc[data['roles']==m].index[0]\n",
    "\n",
    "        # fetching the row containing similarity scores of the movie\n",
    "        # from similarity matrix and enumerate it\n",
    "        lst = list(enumerate(sim[i]))\n",
    "\n",
    "        # sorting this list in decreasing order based on the similarity score\n",
    "        lst = sorted(lst, key = lambda x:x[1] ,reverse=True)\n",
    "\n",
    "        # taking top 1- movie scores\n",
    "        # not taking the first index since it is the same movie\n",
    "        lst = lst[1:11]\n",
    "\n",
    "        # making an empty list that will containg all 10 movie recommendations\n",
    "        l = []\n",
    "        for i in range(len(lst)):\n",
    "            a = lst[i][0]\n",
    "            l.append(data['companies'][a])\n",
    "        return l"
   ]
  },
  {
   "cell_type": "code",
   "execution_count": 4,
   "id": "578d2f42",
   "metadata": {},
   "outputs": [],
   "source": [
    "app = Flask(__name__)\n",
    "\n",
    "@app.route(\"/\")\n",
    "def home():\n",
    "    return render_template('home.html')\n",
    "\n"
   ]
  },
  {
   "cell_type": "code",
   "execution_count": 5,
   "id": "f8135976",
   "metadata": {},
   "outputs": [],
   "source": [
    "\n",
    "#@app.route(\"/basic\")\n",
    "#def home():\n",
    "    #return render_template('home.html')"
   ]
  },
  {
   "cell_type": "code",
   "execution_count": 6,
   "id": "8f48462f",
   "metadata": {},
   "outputs": [],
   "source": [
    "@app.route(\"/recommend\")\n",
    "def recommend():\n",
    "    Job_Roles = request.args.get('Job_Roles')\n",
    "    r = rcmd(Job_Roles)\n",
    "    #movie = movie.upper()\n",
    "    if type(r)==type('string'):\n",
    "        return render_template('recommend.html',Job_Roles=Job_Roles,r=r,t='s')\n",
    "    else:\n",
    "        return render_template('recommend.html',Job_Roles=Job_Roles,r=r,t='l')\n",
    "        #return render_template('jobs.html',Job_Roles=Job_Roles,r=r,t='text_file')\n"
   ]
  },
  {
   "cell_type": "code",
   "execution_count": null,
   "id": "4440a6e7",
   "metadata": {},
   "outputs": [
    {
     "name": "stdout",
     "output_type": "stream",
     "text": [
      " * Serving Flask app '__main__' (lazy loading)\n",
      " * Environment: production\n",
      "\u001b[31m   WARNING: This is a development server. Do not use it in a production deployment.\u001b[0m\n",
      "\u001b[2m   Use a production WSGI server instead.\u001b[0m\n",
      " * Debug mode: off\n"
     ]
    },
    {
     "name": "stderr",
     "output_type": "stream",
     "text": [
      " * Running on http://127.0.0.1:5000/ (Press CTRL+C to quit)\n"
     ]
    }
   ],
   "source": [
    "\n",
    "\n",
    "if __name__ == '__main__':\n",
    "    app.run()\n"
   ]
  },
  {
   "cell_type": "code",
   "execution_count": null,
   "id": "6f153ded",
   "metadata": {},
   "outputs": [],
   "source": []
  }
 ],
 "metadata": {
  "kernelspec": {
   "display_name": "Python 3",
   "language": "python",
   "name": "python3"
  },
  "language_info": {
   "codemirror_mode": {
    "name": "ipython",
    "version": 3
   },
   "file_extension": ".py",
   "mimetype": "text/x-python",
   "name": "python",
   "nbconvert_exporter": "python",
   "pygments_lexer": "ipython3",
   "version": "3.9.4"
  }
 },
 "nbformat": 4,
 "nbformat_minor": 5
}
