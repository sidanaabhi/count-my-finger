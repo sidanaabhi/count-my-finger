{
 "cells": [
  {
   "cell_type": "code",
   "execution_count": 103,
   "metadata": {},
   "outputs": [],
   "source": [
    "import pandas as pd\n",
    "import numpy as np\n",
    "import matplotlib.pyplot as plt\n",
    "import seaborn as sns\n",
    "%matplotlib inline\n",
    "from collections import defaultdict\n",
    "import re"
   ]
  },
  {
   "cell_type": "code",
   "execution_count": 104,
   "metadata": {},
   "outputs": [],
   "source": [
    "df1 = pd.read_csv(\"naukriscrapdata.csv\")"
   ]
  },
  {
   "cell_type": "code",
   "execution_count": 105,
   "metadata": {},
   "outputs": [
    {
     "data": {
      "text/html": [
       "<div>\n",
       "<style scoped>\n",
       "    .dataframe tbody tr th:only-of-type {\n",
       "        vertical-align: middle;\n",
       "    }\n",
       "\n",
       "    .dataframe tbody tr th {\n",
       "        vertical-align: top;\n",
       "    }\n",
       "\n",
       "    .dataframe thead th {\n",
       "        text-align: right;\n",
       "    }\n",
       "</style>\n",
       "<table border=\"1\" class=\"dataframe\">\n",
       "  <thead>\n",
       "    <tr style=\"text-align: right;\">\n",
       "      <th></th>\n",
       "      <th>roles</th>\n",
       "      <th>companies</th>\n",
       "      <th>locations</th>\n",
       "      <th>experience</th>\n",
       "      <th>skills</th>\n",
       "      <th>Dates</th>\n",
       "      <th>PresentDate</th>\n",
       "      <th>salary</th>\n",
       "    </tr>\n",
       "  </thead>\n",
       "  <tbody>\n",
       "    <tr>\n",
       "      <th>0</th>\n",
       "      <td>Data Scientist / Data Analyst -Business Analyst</td>\n",
       "      <td>Inflexion Analytix Private Limited</td>\n",
       "      <td>Mumbai, Hyderabad/Secunderabad, Pune, Gurgaon/...</td>\n",
       "      <td>0-3 Yrs</td>\n",
       "      <td>Business Intelligence\\nArtificial Intelligence...</td>\n",
       "      <td>14 DAYS AGO</td>\n",
       "      <td>2021-05-24</td>\n",
       "      <td>3,50,000 - 4,50,000 PA.</td>\n",
       "    </tr>\n",
       "    <tr>\n",
       "      <th>1</th>\n",
       "      <td>Senior Data Scientist</td>\n",
       "      <td>Fractal Analytics</td>\n",
       "      <td>Mumbai, Gurgaon/Gurugram, Bangalore/Bengaluru</td>\n",
       "      <td>4-8 Yrs</td>\n",
       "      <td>Business Intelligence\\nArtificial Intelligence...</td>\n",
       "      <td>14 DAYS AGO</td>\n",
       "      <td>2021-05-24</td>\n",
       "      <td>Not disclosed</td>\n",
       "    </tr>\n",
       "    <tr>\n",
       "      <th>2</th>\n",
       "      <td>Senior Data Scientist</td>\n",
       "      <td>Fractal Analytics</td>\n",
       "      <td>Gurgaon/Gurugram, Bangalore/Bengaluru, Mumbai ...</td>\n",
       "      <td>5-10 Yrs</td>\n",
       "      <td>Business Intelligence\\nArtificial Intelligence...</td>\n",
       "      <td>14 DAYS AGO</td>\n",
       "      <td>2021-05-24</td>\n",
       "      <td>Not disclosed</td>\n",
       "    </tr>\n",
       "    <tr>\n",
       "      <th>3</th>\n",
       "      <td>Senior Data Scientist</td>\n",
       "      <td>Decision Point</td>\n",
       "      <td>Gurgaon/Gurugram, Chennai</td>\n",
       "      <td>3-6 Yrs</td>\n",
       "      <td>Data Science\\nJava\\nHive\\nR\\nSAS\\nHadoop\\nSpar...</td>\n",
       "      <td>4 DAYS AGO</td>\n",
       "      <td>2021-05-24</td>\n",
       "      <td>Not disclosed</td>\n",
       "    </tr>\n",
       "    <tr>\n",
       "      <th>4</th>\n",
       "      <td>Sr. Data Scientist - AutoML</td>\n",
       "      <td>TransOrg Analytics</td>\n",
       "      <td>Gurgaon/Gurugram</td>\n",
       "      <td>5-8 Yrs</td>\n",
       "      <td>Artificial Intelligence\\nComputer Science\\nBig...</td>\n",
       "      <td>5 DAYS AGO</td>\n",
       "      <td>2021-05-24</td>\n",
       "      <td>Not disclosed</td>\n",
       "    </tr>\n",
       "    <tr>\n",
       "      <th>...</th>\n",
       "      <td>...</td>\n",
       "      <td>...</td>\n",
       "      <td>...</td>\n",
       "      <td>...</td>\n",
       "      <td>...</td>\n",
       "      <td>...</td>\n",
       "      <td>...</td>\n",
       "      <td>...</td>\n",
       "    </tr>\n",
       "    <tr>\n",
       "      <th>1076</th>\n",
       "      <td>Data-Scientist</td>\n",
       "      <td>Datanomist</td>\n",
       "      <td>Hyderabad</td>\n",
       "      <td>3-6 Yrs</td>\n",
       "      <td>IT Skills\\nJava\\nPython\\nTableau\\nData Scienti...</td>\n",
       "      <td>30+ DAYS AGO</td>\n",
       "      <td>2021-05-24</td>\n",
       "      <td>Not disclosed</td>\n",
       "    </tr>\n",
       "    <tr>\n",
       "      <th>1077</th>\n",
       "      <td>Data Scientist</td>\n",
       "      <td>Tech Ringers</td>\n",
       "      <td>Hyderabad/Secunderabad</td>\n",
       "      <td>8-13 Yrs</td>\n",
       "      <td>BPO\\nRF\\nImage processing\\nStaffing\\nPharma\\nA...</td>\n",
       "      <td>30+ DAYS AGO</td>\n",
       "      <td>2021-05-24</td>\n",
       "      <td>Not disclosed</td>\n",
       "    </tr>\n",
       "    <tr>\n",
       "      <th>1078</th>\n",
       "      <td>Data Scientist</td>\n",
       "      <td>VSigma IT Labs Pvt. Ltd.</td>\n",
       "      <td>Hyderabad</td>\n",
       "      <td>2-5 Yrs</td>\n",
       "      <td>Data Scientist</td>\n",
       "      <td>30+ DAYS AGO</td>\n",
       "      <td>2021-05-24</td>\n",
       "      <td>Not disclosed</td>\n",
       "    </tr>\n",
       "    <tr>\n",
       "      <th>1079</th>\n",
       "      <td>Data Scientist</td>\n",
       "      <td>Ancla Consultancy Services India Pvt Ltd</td>\n",
       "      <td>Hyderabad/Secunderabad</td>\n",
       "      <td>6-12 Yrs</td>\n",
       "      <td>Location: Hyderabad\\nData Scientist\\nExperienc...</td>\n",
       "      <td>30+ DAYS AGO</td>\n",
       "      <td>2021-05-24</td>\n",
       "      <td>Not disclosed</td>\n",
       "    </tr>\n",
       "    <tr>\n",
       "      <th>1080</th>\n",
       "      <td>Data Scientists</td>\n",
       "      <td>Pratibha Analytics</td>\n",
       "      <td>Hyderabad/Secunderabad</td>\n",
       "      <td>2-7 Yrs</td>\n",
       "      <td>Help Desk\\nCustomer Service\\ncustomer relation...</td>\n",
       "      <td>30+ DAYS AGO</td>\n",
       "      <td>2021-05-24</td>\n",
       "      <td>Not disclosed</td>\n",
       "    </tr>\n",
       "  </tbody>\n",
       "</table>\n",
       "<p>940 rows × 8 columns</p>\n",
       "</div>"
      ],
      "text/plain": [
       "                                                roles  \\\n",
       "0     Data Scientist / Data Analyst -Business Analyst   \n",
       "1                               Senior Data Scientist   \n",
       "2                               Senior Data Scientist   \n",
       "3                               Senior Data Scientist   \n",
       "4                         Sr. Data Scientist - AutoML   \n",
       "...                                               ...   \n",
       "1076                                   Data-Scientist   \n",
       "1077                                   Data Scientist   \n",
       "1078                                   Data Scientist   \n",
       "1079                                   Data Scientist   \n",
       "1080                                  Data Scientists   \n",
       "\n",
       "                                     companies  \\\n",
       "0           Inflexion Analytix Private Limited   \n",
       "1                            Fractal Analytics   \n",
       "2                            Fractal Analytics   \n",
       "3                               Decision Point   \n",
       "4                           TransOrg Analytics   \n",
       "...                                        ...   \n",
       "1076                                Datanomist   \n",
       "1077                              Tech Ringers   \n",
       "1078                  VSigma IT Labs Pvt. Ltd.   \n",
       "1079  Ancla Consultancy Services India Pvt Ltd   \n",
       "1080                        Pratibha Analytics   \n",
       "\n",
       "                                              locations experience  \\\n",
       "0     Mumbai, Hyderabad/Secunderabad, Pune, Gurgaon/...    0-3 Yrs   \n",
       "1         Mumbai, Gurgaon/Gurugram, Bangalore/Bengaluru    4-8 Yrs   \n",
       "2     Gurgaon/Gurugram, Bangalore/Bengaluru, Mumbai ...   5-10 Yrs   \n",
       "3                             Gurgaon/Gurugram, Chennai    3-6 Yrs   \n",
       "4                                      Gurgaon/Gurugram    5-8 Yrs   \n",
       "...                                                 ...        ...   \n",
       "1076                                          Hyderabad    3-6 Yrs   \n",
       "1077                             Hyderabad/Secunderabad   8-13 Yrs   \n",
       "1078                                          Hyderabad    2-5 Yrs   \n",
       "1079                             Hyderabad/Secunderabad   6-12 Yrs   \n",
       "1080                             Hyderabad/Secunderabad    2-7 Yrs   \n",
       "\n",
       "                                                 skills         Dates  \\\n",
       "0     Business Intelligence\\nArtificial Intelligence...   14 DAYS AGO   \n",
       "1     Business Intelligence\\nArtificial Intelligence...   14 DAYS AGO   \n",
       "2     Business Intelligence\\nArtificial Intelligence...   14 DAYS AGO   \n",
       "3     Data Science\\nJava\\nHive\\nR\\nSAS\\nHadoop\\nSpar...    4 DAYS AGO   \n",
       "4     Artificial Intelligence\\nComputer Science\\nBig...    5 DAYS AGO   \n",
       "...                                                 ...           ...   \n",
       "1076  IT Skills\\nJava\\nPython\\nTableau\\nData Scienti...  30+ DAYS AGO   \n",
       "1077  BPO\\nRF\\nImage processing\\nStaffing\\nPharma\\nA...  30+ DAYS AGO   \n",
       "1078                                     Data Scientist  30+ DAYS AGO   \n",
       "1079  Location: Hyderabad\\nData Scientist\\nExperienc...  30+ DAYS AGO   \n",
       "1080  Help Desk\\nCustomer Service\\ncustomer relation...  30+ DAYS AGO   \n",
       "\n",
       "     PresentDate                   salary  \n",
       "0     2021-05-24  3,50,000 - 4,50,000 PA.  \n",
       "1     2021-05-24            Not disclosed  \n",
       "2     2021-05-24            Not disclosed  \n",
       "3     2021-05-24            Not disclosed  \n",
       "4     2021-05-24            Not disclosed  \n",
       "...          ...                      ...  \n",
       "1076  2021-05-24            Not disclosed  \n",
       "1077  2021-05-24            Not disclosed  \n",
       "1078  2021-05-24            Not disclosed  \n",
       "1079  2021-05-24            Not disclosed  \n",
       "1080  2021-05-24            Not disclosed  \n",
       "\n",
       "[940 rows x 8 columns]"
      ]
     },
     "execution_count": 105,
     "metadata": {},
     "output_type": "execute_result"
    }
   ],
   "source": [
    "df1.drop(['Unnamed: 0'],inplace = True,axis = 1) \n",
    "df1.drop_duplicates(inplace=True) \n",
    "df1.dropna(subset=[\"skills\"])"
   ]
  },
  {
   "cell_type": "code",
   "execution_count": 106,
   "metadata": {},
   "outputs": [],
   "source": [
    "#data consists of job openings related to techsupport/BPO/Helpdesk and similar unwanted roles which are not required here\n",
    "Search_for_These_values = ['Help Desk','Helpdesk','tech support','BPO','Testing'] \n",
    "pattern = '|'.join(Search_for_These_values)\n",
    "filter = df1['skills'].str.contains(pattern,na=False)\n",
    "result=df1[~filter]"
   ]
  },
  {
   "cell_type": "code",
   "execution_count": 107,
   "metadata": {},
   "outputs": [],
   "source": [
    "#picking up location for EDA\n",
    "result['locations'].value_counts()[:20]\n",
    "uniq_locs = set()\n",
    "for loc in result['locations']:\n",
    "    uniq_locs = uniq_locs.union(set(loc.split(',')))\n",
    "    \n",
    "uniq_locs = set([item.strip() for item in uniq_locs])\n",
    "\n",
    "locations_str = '|'.join(result['locations']) # All locations into a single string for pattern matchings \n",
    "loc_dict = defaultdict(int)\n",
    "for loc in uniq_locs:\n",
    "    loc_dict[loc] = len(re.findall(loc, locations_str))"
   ]
  },
  {
   "cell_type": "code",
   "execution_count": 108,
   "metadata": {},
   "outputs": [
    {
     "name": "stdout",
     "output_type": "stream",
     "text": [
      "         Location  jobcount\n",
      "0       Delhi NCR       337\n",
      "1       Mumbai_MH       137\n",
      "2    Bengaluru_KA       696\n",
      "3   Trivandrum_KL        13\n",
      "4    Hyderabad_AP       227\n",
      "5    Ahmedabad_GJ        11\n",
      "6      Kolkata_WB        29\n",
      "7      Chennai_TN        87\n",
      "8         Pune_MH       111\n",
      "9   Chandigarh_CH         9\n",
      "10       PANIndia         9\n"
     ]
    }
   ],
   "source": [
    "# Take the most frequent job locations\n",
    "jobs_by_loc = pd.Series(loc_dict).sort_values(ascending = False)\n",
    "jobs_by_loc['Mumbai_MH'] = jobs_by_loc['Mumbai'] + jobs_by_loc['Navi Mumbai'] + jobs_by_loc['Nagpur'] + jobs_by_loc['Thane'] + jobs_by_loc['Mumbai (All Areas)']\n",
    "jobs_by_loc['Bengaluru_KA'] = jobs_by_loc['Bengaluru'] + jobs_by_loc['Bangalore/Bengaluru'] + jobs_by_loc['Mysore/Mysuru'] + jobs_by_loc['Bangalore/Bengaluru(Seshadripuram)']\n",
    "jobs_by_loc['Delhi NCR'] = jobs_by_loc['Delhi NCR'] + jobs_by_loc['Delhi'] + jobs_by_loc['Noida'] + jobs_by_loc['Gurgaon'] + jobs_by_loc['Gurgaon/Gurugram'] + jobs_by_loc['Delhi / NCR']\n",
    "jobs_by_loc['Trivandrum_KL'] = jobs_by_loc['Trivandrum/Thiruvananthapuram'] + jobs_by_loc['Kochi/Cochin'] + jobs_by_loc['Kozhikode']\n",
    "jobs_by_loc['Hyderabad_AP'] = jobs_by_loc['Hyderabad'] + jobs_by_loc['telangana'] + jobs_by_loc['Visakhapatnam'] + jobs_by_loc['Hyderabad/Secunderabad']\n",
    "jobs_by_loc['Ahmedabad_GJ'] = jobs_by_loc['Vadodara'] + jobs_by_loc['Ahmedabad']\n",
    "jobs_by_loc['Kolkata_WB'] = jobs_by_loc['Kolkata'] +jobs_by_loc['Kalyani'] +jobs_by_loc['Calicut/Kozhikode'] + jobs_by_loc['bhubaneswar']\n",
    "jobs_by_loc['Chennai_TN'] = jobs_by_loc['Chennai'] + jobs_by_loc['Coimbatore'] \n",
    "jobs_by_loc['Pune_MH'] = jobs_by_loc['Pune']\n",
    "jobs_by_loc['Chandigarh_CH'] = jobs_by_loc['Chandigarh'] +jobs_by_loc['Mohali'] +jobs_by_loc['Mohali/SAS Nagar']\n",
    "jobs_by_loc.drop(['Nagar','Jaipur','Indore','haryana','Hosur','india','Jamshedpur','PAN India','Other','Rajkot','Work from Home','Dubai','Faridabad','Ghaziabad','Uttar Pradesh','Bhubaneshwar','Agra','Gondiya','Bharuch','Cochin/ Kochi/ Ernakulam','Kanpur','Bhubaneswar','Jhansi','Lucknow','REMOTE','mangalagiri','kerala','Bhopal','Canada','uttar pradesh','rajasthan','Guntur','Jaunpur','Chandigarh','Mohali','Mohali/SAS Nagar','bhubaneswar','Bangalore/Bengaluru(Wind Tunnel Road)','Noida(Sector-62 Noida)','Kolkata(New Town)','Pune(Baner)','Bangalore/Bengaluru(HSR Layout)','Pune(Kalyani Nagar)','Pune(Kothrud)','Mumbai (All Areas)(Vikhroli)','Chennai(Ramapuram)','Hyderabad/Secunderabad(Jubilee Hills)','Pune(Kharadi)','any','Calicut/Kozhikode','Nagpur','Kalyani','New Delhi','Pune','Noida','Gurgaon','Gurgaon/Gurugram','Coimbatore','Chennai','Kolkata','Ahmedabad','Vadodara','Visakhapatnam','telangana','Hyderabad/Secunderabad','Hyderabad','Trivandrum/Thiruvananthapuram','Kochi/Cochin','Kozhikode','Delhi / NCR','Bengaluru','Bangalore/Bengaluru','Mysore/Mysuru','Bangalore/Bengaluru(Seshadripuram)','Mumbai','Navi Mumbai','Nagpur','Mumbai (All Areas)','Thane','Delhi','India','Remote'], inplace=True)\n",
    "jobs_by_loc['PANIndia'] = sum(jobs_by_loc)-(jobs_by_loc['Pune_MH'] + jobs_by_loc['Chennai_TN'] + jobs_by_loc['Kolkata_WB'] + jobs_by_loc['Ahmedabad_GJ'] + jobs_by_loc['Hyderabad_AP'] + jobs_by_loc['Trivandrum_KL'] + jobs_by_loc['Delhi NCR'] + jobs_by_loc['Bengaluru_KA'] + jobs_by_loc['Mumbai_MH'] )\n",
    "\n",
    "jobs = pd.DataFrame (jobs_by_loc)\n",
    "df5 = pd.DataFrame(data=jobs.index, columns=['Location'])\n",
    "\n",
    "df6 = pd.DataFrame(data=jobs.values, columns=['jobcount'])\n",
    "df7 = pd.merge(df5, df6, left_index=True, right_index=True)\n",
    "print(df7)"
   ]
  },
  {
   "cell_type": "code",
   "execution_count": 109,
   "metadata": {},
   "outputs": [
    {
     "data": {
      "image/png": "[encoded data removed]",
      "text/plain": [
       "<Figure size 432x288 with 1 Axes>"
      ]
     },
     "metadata": {},
     "output_type": "display_data"
    }
   ],
   "source": [
    "#plotting the locations\n",
    "import seaborn as sns\n",
    "import matplotlib.pyplot as plt\n",
    "%matplotlib inline\n",
    "sns.set_style(\"darkgrid\")\n",
    "\n",
    "bar_plot = sns.barplot(y=df7.Location,x=df7.jobcount,\n",
    "                        palette=\"muted\",orient = 'h')                        \n",
    "plt.title(\"Data scientist Jobs by Location\")\n",
    "plt.show()"
   ]
  },
  {
   "cell_type": "code",
   "execution_count": 110,
   "metadata": {},
   "outputs": [
    {
     "data": {
      "text/html": [
       "<div>\n",
       "<style scoped>\n",
       "    .dataframe tbody tr th:only-of-type {\n",
       "        vertical-align: middle;\n",
       "    }\n",
       "\n",
       "    .dataframe tbody tr th {\n",
       "        vertical-align: top;\n",
       "    }\n",
       "\n",
       "    .dataframe thead th {\n",
       "        text-align: right;\n",
       "    }\n",
       "</style>\n",
       "<table border=\"1\" class=\"dataframe\">\n",
       "  <thead>\n",
       "    <tr style=\"text-align: right;\">\n",
       "      <th></th>\n",
       "      <th>roles</th>\n",
       "      <th>Openings</th>\n",
       "    </tr>\n",
       "  </thead>\n",
       "  <tbody>\n",
       "    <tr>\n",
       "      <th>0</th>\n",
       "      <td>Data Scientist</td>\n",
       "      <td>296</td>\n",
       "    </tr>\n",
       "    <tr>\n",
       "      <th>1</th>\n",
       "      <td>Senior Data Scientist</td>\n",
       "      <td>88</td>\n",
       "    </tr>\n",
       "    <tr>\n",
       "      <th>2</th>\n",
       "      <td>Lead Data Scientist</td>\n",
       "      <td>25</td>\n",
       "    </tr>\n",
       "    <tr>\n",
       "      <th>3</th>\n",
       "      <td>Principal Data Scientist</td>\n",
       "      <td>13</td>\n",
       "    </tr>\n",
       "    <tr>\n",
       "      <th>4</th>\n",
       "      <td>Associate Data Scientist</td>\n",
       "      <td>11</td>\n",
       "    </tr>\n",
       "  </tbody>\n",
       "</table>\n",
       "</div>"
      ],
      "text/plain": [
       "                      roles  Openings\n",
       "0            Data Scientist       296\n",
       "1     Senior Data Scientist        88\n",
       "2       Lead Data Scientist        25\n",
       "3  Principal Data Scientist        13\n",
       "4  Associate Data Scientist        11"
      ]
     },
     "execution_count": 110,
     "metadata": {},
     "output_type": "execute_result"
    }
   ],
   "source": [
    "##checking for roles\n",
    "result['roles'].value_counts ()[:50]\n",
    "roledf=pd.DataFrame(result.roles.apply(pd.Series).stack().value_counts()).reset_index()\n",
    "roledf.columns=[\"roles\",\"Openings\"]\n",
    "roledf.head()"
   ]
  },
  {
   "cell_type": "code",
   "execution_count": 111,
   "metadata": {},
   "outputs": [
    {
     "data": {
      "image/png": "[encoded data removed]",
      "text/plain": [
       "<Figure size 432x288 with 1 Axes>"
      ]
     },
     "metadata": {},
     "output_type": "display_data"
    }
   ],
   "source": [
    "datascience={}\n",
    "datascience['Data Scientist']=roledf[\"Openings\"][roledf['roles'].str.contains('Data Scien', regex=True)].sum()\n",
    "datascience['Data Analyst']=roledf[\"Openings\"][roledf['roles'].str.contains('Data Analy', regex=True)].sum()\n",
    "datascience['Business Analyst']=roledf[\"Openings\"][roledf['roles'].str.contains('Business', regex=True)].sum()\n",
    "datascience['Data Engineer']=roledf[\"Openings\"][roledf['roles'].str.contains('Data Engineer', regex=True)].sum()\n",
    "datascience['Manager']=roledf[\"Openings\"][roledf['roles'].str.contains('Manager', regex=True)].sum()\n",
    "from operator import itemgetter\n",
    "datascience=dict(sorted(datascience.items(), key=itemgetter(1),reverse=True))\n",
    "datascience\n",
    "datascience = pd.Series(datascience)\n",
    "bar_plot = sns.barplot(y=datascience.index,x=datascience.values,\n",
    "                        palette=\"muted\",orient = 'h')                                  \n",
    "plt.title(\"Trending roles\")\n",
    "plt.show()"
   ]
  },
  {
   "cell_type": "code",
   "execution_count": 112,
   "metadata": {},
   "outputs": [
    {
     "name": "stderr",
     "output_type": "stream",
     "text": [
      "<ipython-input-112-b202a95ff238>:2: SettingWithCopyWarning: \n",
      "A value is trying to be set on a copy of a slice from a DataFrame.\n",
      "Try using .loc[row_indexer,col_indexer] = value instead\n",
      "\n",
      "See the caveats in the documentation: https://pandas.pydata.org/pandas-docs/stable/user_guide/indexing.html#returning-a-view-versus-a-copy\n",
      "  result['experience'] = result['experience'].str.replace('Yrs','', regex=True)\n",
      "<ipython-input-112-b202a95ff238>:3: SettingWithCopyWarning: \n",
      "A value is trying to be set on a copy of a slice from a DataFrame.\n",
      "Try using .loc[row_indexer,col_indexer] = value instead\n",
      "\n",
      "See the caveats in the documentation: https://pandas.pydata.org/pandas-docs/stable/user_guide/indexing.html#returning-a-view-versus-a-copy\n",
      "  result['experience'] = result['experience'].str.replace('None','0-0', regex=True)\n"
     ]
    },
    {
     "data": {
      "text/plain": [
       "<AxesSubplot:>"
      ]
     },
     "execution_count": 112,
     "metadata": {},
     "output_type": "execute_result"
    },
    {
     "data": {
      "image/png": "[encoded data removed]",
      "text/plain": [
       "<Figure size 432x288 with 1 Axes>"
      ]
     },
     "metadata": {},
     "output_type": "display_data"
    }
   ],
   "source": [
    "#Checking for experience\n",
    "result['experience'] = result['experience'].str.replace('Yrs','', regex=True)\n",
    "result['experience'] = result['experience'].str.replace('None','0-0', regex=True)\n",
    "\n",
    "#Splitting range in two columns\n",
    "result=result.join(result['experience'].str.split('-', 1, expand=True).rename(columns={0:'min_exp', 1:'max_exp'}))\n",
    "result['min_exp'] =result['min_exp'].astype('float64')\n",
    "result['max_exp'] =result['max_exp'].apply(pd.to_numeric)\n",
    "col = result.loc[: , \"min_exp\":\"max_exp\"]\n",
    "result['avg_exp']=col.mean(axis=1)\n",
    "\n",
    "exp_counts = result['avg_exp'].value_counts()\n",
    "exp_counts.plot.bar(x='index', y='avg_exp')\n"
   ]
  },
  {
   "cell_type": "code",
   "execution_count": 113,
   "metadata": {},
   "outputs": [],
   "source": [
    "result['salary'] = result['salary'].str.replace('PA.','', regex=True)\n",
    "result['salary'] = result['salary'].str.replace(',','', regex=True)\n",
    "result['salary'] = result['salary'].str.replace('1 Cr and above ','10000000', regex=True)\n",
    "result['salary'] = result['salary'].str.replace('more than ','', regex=True)"
   ]
  },
  {
   "cell_type": "code",
   "execution_count": null,
   "metadata": {},
   "outputs": [],
   "source": []
  }
 ],
 "metadata": {
  "kernelspec": {
   "display_name": "Python 3",
   "language": "python",
   "name": "python3"
  },
  "language_info": {
   "codemirror_mode": {
    "name": "ipython",
    "version": 3
   },
   "file_extension": ".py",
   "mimetype": "text/x-python",
   "name": "python",
   "nbconvert_exporter": "python",
   "pygments_lexer": "ipython3",
   "version": "3.9.4"
  }
 },
 "nbformat": 4,
 "nbformat_minor": 4
}
